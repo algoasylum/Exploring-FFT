{
 "cells": [
  {
   "cell_type": "code",
   "execution_count": 1,
   "metadata": {},
   "outputs": [],
   "source": [
    "import numpy as np\n",
    "import matplotlib.pyplot as plt"
   ]
  },
  {
   "cell_type": "code",
   "execution_count": 2,
   "metadata": {},
   "outputs": [],
   "source": [
    "import siggen as sg\n",
    "import siganalysis as sa"
   ]
  },
  {
   "cell_type": "code",
   "execution_count": null,
   "metadata": {},
   "outputs": [],
   "source": [
    "siggen.__name__\n",
    "dir(siggen)"
   ]
  },
  {
   "cell_type": "code",
   "execution_count": 3,
   "metadata": {},
   "outputs": [
    {
     "name": "stdout",
     "output_type": "stream",
     "text": [
      "1-norms: 128.74 125.56\n",
      "2-norms: 10.07 9.92\n",
      "infty-norms: 1.00 1.00\n"
     ]
    }
   ],
   "source": [
    "c1 = sg.gen_sig_cos(200, 4, 120)\n",
    "c2 = sg.gen_sig_cos(200, 2, 120)\n",
    "print(\"1-norms: {:.2f} {:.2f}\".format(sa.norm_1(c1), sa.norm_1(c2)))\n",
    "print(\"2-norms: {:.2f} {:.2f}\".format(sa.norm_2(c1), sa.norm_2(c2)))\n",
    "print(\"infty-norms: {:.2f} {:.2f}\".format(sa.norm_infty(c1), sa.norm_infty(c2)))"
   ]
  },
  {
   "cell_type": "code",
   "execution_count": null,
   "metadata": {},
   "outputs": [],
   "source": [
    "#dot-products\n",
    "c1 = gen_sig_cos(240, 4, 120)\n",
    "c2 = gen_sig_cos(240, 2, 120)\n",
    "c3 = gen_sig_cos(240, 1, 120)\n",
    "\n",
    "c1_n = c1 / norm_2(c1)\n",
    "c2_n = c2 / norm_2(c2)\n",
    "c3_n = c3 / norm_2(c3)\n",
    "\n",
    "d12n = np.dot(c1_n, c2_n)\n",
    "d13n = np.dot(c1_n, c3_n)\n",
    "d23n = np.dot(c2_n, c3_n)\n",
    "\n",
    "d11n = np.dot(c1_n, c1_n)\n",
    "\n",
    "print(d11n)\n",
    "print(d12n)\n",
    "print(d13n)\n",
    "print(d23n)"
   ]
  },
  {
   "cell_type": "code",
   "execution_count": null,
   "metadata": {},
   "outputs": [],
   "source": [
    "fig, ax = plt.subplots(3, 2, figsize=(15, 6))\n",
    "ax[0][0].stem(c1)\n",
    "ax[0][1].stem(c1_n, c='r')\n",
    "\n",
    "ax[1][0].stem(c2)\n",
    "ax[1][1].stem(c2_n, c='r')\n",
    "\n",
    "ax[2][0].stem(c3)\n",
    "ax[2][1].stem(c3_n, c='g')\n",
    "plt.show()"
   ]
  },
  {
   "cell_type": "code",
   "execution_count": null,
   "metadata": {},
   "outputs": [],
   "source": [
    "theta12 = np.arccos(np.dot(c1_n, c2_n))\n",
    "theta13 = np.arccos(np.dot(c1_n, c3_n))\n",
    "theta23 = np.arccos(np.dot(c2_n, c3_n))\n",
    "\n",
    "print(theta12, theta13, theta23)\n",
    "\n",
    "dcs = np.dot(s1_n, c1_n)\n",
    "print(\"dot of c1 and c2: {:.4f}\".format(d12n))\n",
    "print(\"dot of cos and sin: {:.4f}\".format(dcs))\n",
    "s1 = gen_sig_sin(240, 4, 120)\n",
    "s1_n = s1 / norm_2(s1)\n",
    "theta_n = np.arccos(np.dot(s1_n,c1_n))\n",
    "print(theta_n)\n",
    "\n",
    "fig, ax = plt.subplots(1, 2, figsize = (16, 5))\n",
    "ax[0].stem(c1_n)\n",
    "ax[1].stem(s1_n)\n",
    "plt.show()"
   ]
  }
 ],
 "metadata": {
  "kernelspec": {
   "display_name": "Python 3",
   "language": "python",
   "name": "python3"
  },
  "language_info": {
   "codemirror_mode": {
    "name": "ipython",
    "version": 3
   },
   "file_extension": ".py",
   "mimetype": "text/x-python",
   "name": "python",
   "nbconvert_exporter": "python",
   "pygments_lexer": "ipython3",
   "version": "3.6.4"
  },
  "latex_envs": {
   "LaTeX_envs_menu_present": true,
   "autoclose": false,
   "autocomplete": true,
   "bibliofile": "biblio.bib",
   "cite_by": "apalike",
   "current_citInitial": 1,
   "eqLabelWithNumbers": true,
   "eqNumInitial": 1,
   "hotkeys": {
    "equation": "Ctrl-E",
    "itemize": "Ctrl-I"
   },
   "labels_anchors": false,
   "latex_user_defs": false,
   "report_style_numbering": false,
   "user_envs_cfg": false
  }
 },
 "nbformat": 4,
 "nbformat_minor": 2
}
